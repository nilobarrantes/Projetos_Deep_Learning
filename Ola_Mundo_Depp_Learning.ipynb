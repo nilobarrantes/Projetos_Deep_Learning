{
  "nbformat": 4,
  "nbformat_minor": 0,
  "metadata": {
    "colab": {
      "name": "Ola_Mundo-Depp-Learning.ipynb",
      "provenance": [],
      "collapsed_sections": [],
      "include_colab_link": true
    },
    "kernelspec": {
      "display_name": "Python 3",
      "name": "python3"
    }
  },
  "cells": [
    {
      "cell_type": "markdown",
      "metadata": {
        "id": "view-in-github",
        "colab_type": "text"
      },
      "source": [
        "<a href=\"https://colab.research.google.com/github/nilobarrantes/Projetos_Deep_Learning/blob/master/Ola_Mundo_Depp_Learning.ipynb\" target=\"_parent\"><img src=\"https://colab.research.google.com/assets/colab-badge.svg\" alt=\"Open In Colab\"/></a>"
      ]
    },
    {
      "cell_type": "markdown",
      "metadata": {
        "colab_type": "text",
        "id": "ZIAkIlfmCe1B"
      },
      "source": [
        "# O *'Ola mundo'* do Deep Learning com Redes Neurais"
      ]
    },
    {
      "cell_type": "markdown",
      "metadata": {
        "colab_type": "text",
        "id": "fA93WUy1zzWf"
      },
      "source": [
        "![](https://drive.google.com/uc?export=view&id=1ca33d_0NHcp-_qbuksNlMeuzkU7YHuVh)\n",
        "\n",
        "\n",
        "Para mostrar como funciona a estrutura geral de uma rede neural, vamos começar com algo muito simples.\n",
        "\n",
        "No caso da criação de redes neurais, o exemplo mais usado é aquele em que aprende a relação entre dois números. Dada a tabela\n",
        "\n",
        "![](https://drive.google.com/uc?export=view&id=1Drk3ylG1sJoO6ZWcSAzFpCDmye1M_dTe)\n",
        "\n",
        "Qual é a relaçao entre os conjuntos de números X e Y? Facílmente observamos que Y= 2X-1.\n",
        "Se você tem conhecimentos em python, poderia estar escrevendo o código para uma função como esta \n",
        "\n",
        "\n",
        "```\n",
        "float hw_function(float x){\n",
        "    float y = (2 * x) - 1;\n",
        "    return y;\n",
        "}\n",
        "```\n",
        "\n",
        "Então, como treinar uma rede neural para fazer a tarefa equivalente? Usando dados! Ao alimentá-lo com um conjunto de Xs e um conjunto de Ys, ele deve ser capaz de descobrir a relação entre eles.\n",
        "\n",
        "Obviamente, este é um paradigma muito diferente daquele com o qual estamos acostumados, então vamos analisá-lo peça por peça.\n"
      ]
    },
    {
      "cell_type": "markdown",
      "metadata": {
        "colab_type": "text",
        "id": "DzbtdRcZDO9B"
      },
      "source": [
        "## Importações\n",
        "\n",
        "Vamos começar com nossas importações. Aqui, estamos importando o TensorFlow e chamando-o de tf para facilitar o uso.\n",
        "\n",
        "Em seguida, importamos uma biblioteca chamada numpy, que nos ajuda a representar nossos dados como listas de maneira fácil e rápida.\n",
        "\n",
        "O framework para definir uma rede neural como um conjunto de camadas sequenciais é chamada de keras, por isso também a importamos."
      ]
    },
    {
      "cell_type": "code",
      "metadata": {
        "colab_type": "code",
        "id": "X9uIpOS2zx7k",
        "colab": {}
      },
      "source": [
        "import tensorflow as tf\n",
        "import numpy as np\n",
        "from tensorflow import keras"
      ],
      "execution_count": null,
      "outputs": []
    },
    {
      "cell_type": "markdown",
      "metadata": {
        "colab_type": "text",
        "id": "wwJGmDrQ0EoB"
      },
      "source": [
        "## Definir e Compilar a Rede Neural (NN)\n",
        "\n",
        "A seguir, criaremos a rede neural mais simples possível. Ele tem 1 camada, e essa camada tem 1 neurônio, e a forma de entrada para ela é de apenas 1 valor."
      ]
    },
    {
      "cell_type": "code",
      "metadata": {
        "colab_type": "code",
        "id": "kQFAr_xo0M4T",
        "colab": {}
      },
      "source": [
        "model = tf.keras.Sequential([keras.layers.Dense(units=1, input_shape=[1])])"
      ],
      "execution_count": null,
      "outputs": []
    },
    {
      "cell_type": "markdown",
      "metadata": {
        "colab_type": "text",
        "id": "KhjZjZ-c0Ok9"
      },
      "source": [
        "Agora compilamos nossa Rede Neural. Quando fazemos isso, temos que especificar 2 funções, chamas loss  e optimizer.\n",
        "\n",
        "Se você já viu muita matemática para o aprendizado de máquina, é aqui que ela é geralmente usada, mas, neste caso, está bem encapsulada em funções para você. Mas o que acontece aqui - vamos explicar ...\n",
        "\n",
        "Sabemos que, em nossa função, a relação entre os números é y = 2x-1.\n",
        "\n",
        "\n",
        "Quando o computador está tentando 'aprender' isso, ele faz uma suposição ... talvez y = 10x + 10. A função LOSS mede as respostas adivinhadas em relação às respostas corretas conhecidas e mede o quão bem ou mal ela se saiu.\n",
        "\n",
        "Em seguida, ele usa a função OPTIMIZER para fazer outra estimativa. Com base em como a função LOOS funcionou, ele tentará minimizar a perda. Nesse ponto, talvez ele apareça com algo como y = 5x + 5, que, embora ainda seja muito ruim, está mais perto do resultado correto (ou seja, o LOOS é menor).\n",
        "\n",
        "Ele repetirá isso para o número de EPOCHS que você verá em breve. Mas primeiro, aqui está como dizemos a ele para usar 'MEAN SQUARED ERROR' para o LOOS e 'STOCHASTIC GRADIENT DESCENT' para o OPTIMIZER. Você não precisa entender a matemática para eles ainda, mas pode ver que funcionam! :)\n",
        "\n",
        "Com o tempo, você aprenderá as funções LOOS e OPTIMIZER diferentes e apropriadas para diferentes cenários."
      ]
    },
    {
      "cell_type": "code",
      "metadata": {
        "colab_type": "code",
        "id": "m8YQN1H41L-Y",
        "colab": {}
      },
      "source": [
        "model.compile(optimizer='sgd', loss='mean_squared_error')"
      ],
      "execution_count": null,
      "outputs": []
    },
    {
      "cell_type": "markdown",
      "metadata": {
        "colab_type": "text",
        "id": "5QyOUhFw1OUX"
      },
      "source": [
        "## Fornecendo os Dados\n",
        "\n",
        "Em seguida, inseriremos alguns dados. Neste caso, estamos pegando 6 xs e 6ys. Você pode ver que a relação entre eles é y = 2x-1, então quando x = -1, y = -3 etc. etc.\n",
        "\n",
        "Uma biblioteca python chamada 'Numpy' fornece muitas estruturas de dados do tipo array que são uma maneira padrão de fazer isso. Declaramos que queremos usá-los especificando os valores como np.array[]"
      ]
    },
    {
      "cell_type": "code",
      "metadata": {
        "colab_type": "code",
        "id": "4Dxk4q-jzEy4",
        "colab": {}
      },
      "source": [
        "xs = np.array([-1.0,  0.0, 1.0, 2.0, 3.0, 4.0], dtype=float)\n",
        "ys = np.array([-3.0, -1.0, 1.0, 3.0, 5.0, 7.0], dtype=float)"
      ],
      "execution_count": null,
      "outputs": []
    },
    {
      "cell_type": "markdown",
      "metadata": {
        "colab_type": "text",
        "id": "n_YcWRElnM_b"
      },
      "source": [
        "# Treinando a Rede Neural"
      ]
    },
    {
      "cell_type": "markdown",
      "metadata": {
        "colab_type": "text",
        "id": "c-Jk4dG91dvD"
      },
      "source": [
        "O processo de treinamento da rede neural, onde ela \"aprende\" a relação entre os Xs e Ys, está na chamada **model.fit**. É aqui que ele percorrerá o ciclo de que falamos acima, fazendo um palpite, medindo o quão bom ou ruim ele é (também conhecido como Loss), usando o Optimizer para fazer outro palpite etc. Ele fará isso pelo número de Epoch que especificamos. Quando você executa este código, você verá o LOOS do lado direito."
      ]
    },
    {
      "cell_type": "code",
      "metadata": {
        "colab_type": "code",
        "id": "lpRrl7WK10Pq",
        "colab": {}
      },
      "source": [
        "model.fit(xs, ys, epochs=500)"
      ],
      "execution_count": null,
      "outputs": []
    },
    {
      "cell_type": "markdown",
      "metadata": {
        "colab_type": "text",
        "id": "kaFIr71H2OZ-"
      },
      "source": [
        "Ok, agora você tem um modelo que foi treinado para aprender a relação entre X e Y. Você pode usar o método **model.predict** para que ele descubra o Y para um X anteriormente desconhecido. Então, por exemplo, se X = 10, o que você acha que Y será? Adivinhe antes de executar este código:"
      ]
    },
    {
      "cell_type": "code",
      "metadata": {
        "colab_type": "code",
        "id": "oxNzL4lS2Gui",
        "colab": {
          "base_uri": "https://localhost:8080/",
          "height": 34
        },
        "outputId": "b25e1754-7ef8-4236-d062-e5f660b52e2e"
      },
      "source": [
        "print(model.predict([10.0]))"
      ],
      "execution_count": null,
      "outputs": [
        {
          "output_type": "stream",
          "text": [
            "[[18.984657]]\n"
          ],
          "name": "stdout"
        }
      ]
    },
    {
      "cell_type": "markdown",
      "metadata": {
        "colab_type": "text",
        "id": "btF2CSFH2iEX"
      },
      "source": [
        "Você deve ter pensado em 19, certo? Mas acabou ficando um pouco abaixo. Por que você acha que é isso?\n",
        "\n",
        "Lembre-se de que as redes neurais lidam com probabilidades, portanto, dados os dados com os quais alimentamos a NN, ele calculou que há uma probabilidade muito alta de que a relação entre X e Y seja Y = 2X-1, mas com apenas 6 pontos de dados podemos não saber com certeza. Como resultado, o resultado para 10 é muito próximo de 19, mas não necessariamente 19.\n",
        "\n",
        "Ao trabalhar com redes neurais, você verá esse padrão se repetindo. Quase sempre você lidará com probabilidades, não certezas, e fará um pouco de codificação para descobrir qual é o resultado com base nas probabilidades, especialmente quando se trata de classificação."
      ]
    }
  ]
}